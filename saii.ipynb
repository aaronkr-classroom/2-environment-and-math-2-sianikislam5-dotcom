{
 "cells": [
  {
   "cell_type": "markdown",
   "id": "de1b192b",
   "metadata": {},
   "source": [
    "# MARKDOWN\n",
    "write your own MD content from slide 49\n"
   ]
  },
  {
   "cell_type": "code",
   "execution_count": null,
   "id": "f803891f",
   "metadata": {},
   "outputs": [],
   "source": [
    "# 1. Hello Pythone\n",
    "name = \"Aron\"\n",
    "goals= ['learn ML','learn DL','deeply learn DL']\n",
    "\n",
    "print()\n",
    "print()\n",
    "\n",
    "\n"
   ]
  }
 ],
 "metadata": {
  "language_info": {
   "name": "python"
  }
 },
 "nbformat": 4,
 "nbformat_minor": 5
}
