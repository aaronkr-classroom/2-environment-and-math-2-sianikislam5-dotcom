{
 "cells": [
  {
   "cell_type": "markdown",
   "id": "de1b192b",
   "metadata": {},
   "source": [
    "# MARKDOWN\n",
    "write your own MD content from slide 49\n"
   ]
  },
  {
   "cell_type": "code",
   "execution_count": null,
   "id": "f803891f",
   "metadata": {},
   "outputs": [],
   "source": [
    "# 1. Hello Pythone\n",
    "name = \"Aron\"\n",
    "goals= ['learn ML','learn DL','deeply learn DL']\n",
    "\n",
    "print(\"Hello,\", name, \"!\")\n",
    "print(\"Hello, \"+ name + \"!\")\n",
    "\n",
    "# for ( 1 starting point; 2 end condition; 4 next step;) {3 excuting code; # for g in goals:}\n",
    "print (\"-\", g)\n",
    "\n",
    "#if - elif - else\n",
    "if\"learn ML\" in goals:\n",
    "    print(\"let's learn ML\")\n",
    "\n"
   ]
  }
 ],
 "metadata": {
  "language_info": {
   "name": "python"
  }
 },
 "nbformat": 4,
 "nbformat_minor": 5
}
