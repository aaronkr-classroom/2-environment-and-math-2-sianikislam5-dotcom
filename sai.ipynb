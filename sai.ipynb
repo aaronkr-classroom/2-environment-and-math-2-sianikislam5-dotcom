{
 "cells": [
  {
   "cell_type": "code",
   "execution_count": null,
   "id": "88e2d4ec",
   "metadata": {
    "vscode": {
     "languageId": "plaintext"
    }
   },
   "outputs": [],
   "source": []
  }
 ],
 "metadata": {
  "language_info": {
   "name": "python"
  }
 },
 "nbformat": 4,
 "nbformat_minor": 5
}
